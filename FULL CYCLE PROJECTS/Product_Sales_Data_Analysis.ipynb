{
 "cells": [
  {
   "cell_type": "markdown",
   "id": "2f5e0f5b",
   "metadata": {},
   "source": [
    "## PROJECT DESCRIPTION"
   ]
  },
  {
   "cell_type": "markdown",
   "id": "f15f5de6",
   "metadata": {},
   "source": [
    "Sales analytics is the practice of generating insights from sales data, trends, and metrics to set targets and forecast future sales performance.\n",
    "\n",
    "In this analytics project,  I explore the data to evaluate the performance of the sales team against specified goals. \n",
    "The project provides insights about the top performing and underperforming products/services, the problems in selling and market opportunities, sales forecasting, and sales activities that generate revenue."
   ]
  },
  {
   "cell_type": "markdown",
   "id": "8a5e127b",
   "metadata": {},
   "source": [
    "### PROJECT QUESTIONS AND ANALYSIS\n",
    "\n",
    "In the analysis of the project data, these questions will be answered with accompanying visualizations.\n",
    "\n",
    "1: What was the best Year for sales? How much was earned that Year?\n",
    "\n",
    "2: What City had the highest number of sales?\n",
    "\n",
    "3: What was the best month for sales? How much was earned that month?\n",
    "\n",
    "4: What products are most often sold together?\n",
    "\n",
    "5: What product sold the most? Why do you think it sold the most?\n",
    "\n",
    "6: What time should we display adverstisement to maximize likelihood of customer's buying product?\n",
    "\n",
    "7: What is the probability that people will order USB-C Charging Cable?\n",
    "\n",
    "8: What is the probability that people will orderiPhone?\n",
    "\n",
    "9: What is the probability that people will order Google Phone?\n",
    "\n",
    "10:What is the probability that people will order Wired Headphones?"
   ]
  },
  {
   "cell_type": "code",
   "execution_count": null,
   "id": "364bf440",
   "metadata": {},
   "outputs": [],
   "source": []
  }
 ],
 "metadata": {
  "kernelspec": {
   "display_name": "Python 3 (ipykernel)",
   "language": "python",
   "name": "python3"
  }
 },
 "nbformat": 4,
 "nbformat_minor": 5
}
